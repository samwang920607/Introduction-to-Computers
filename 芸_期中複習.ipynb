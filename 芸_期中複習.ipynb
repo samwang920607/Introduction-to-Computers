{
  "nbformat": 4,
  "nbformat_minor": 0,
  "metadata": {
    "colab": {
      "provenance": [],
      "authorship_tag": "ABX9TyNB8ZZVBoIFWVIcJ3PqGNXL",
      "include_colab_link": true
    },
    "kernelspec": {
      "name": "python3",
      "display_name": "Python 3"
    },
    "language_info": {
      "name": "python"
    }
  },
  "cells": [
    {
      "cell_type": "markdown",
      "metadata": {
        "id": "view-in-github",
        "colab_type": "text"
      },
      "source": [
        "<a href=\"https://colab.research.google.com/github/samwang920607/Introduction-to-Computers/blob/main/%E8%8A%B8_%E6%9C%9F%E4%B8%AD%E8%A4%87%E7%BF%92.ipynb\" target=\"_parent\"><img src=\"https://colab.research.google.com/assets/colab-badge.svg\" alt=\"Open In Colab\"/></a>"
      ]
    },
    {
      "cell_type": "code",
      "execution_count": 1,
      "metadata": {
        "colab": {
          "base_uri": "https://localhost:8080/"
        },
        "id": "9Be8mOwc-4Qe",
        "outputId": "5cda73b3-63e0-49ca-9c9b-3e05ecf0d647"
      },
      "outputs": [
        {
          "output_type": "stream",
          "name": "stdout",
          "text": [
            "午安\n",
            "同學好\n",
            "打起精神來\n"
          ]
        }
      ],
      "source": [
        "print('午安')\n",
        "print('同學好')\n",
        "print('打起精神來')"
      ]
    },
    {
      "cell_type": "code",
      "source": [
        "print('午安,''同學好！','打起精神來！！！！',sep='\\n')"
      ],
      "metadata": {
        "colab": {
          "base_uri": "https://localhost:8080/"
        },
        "id": "ILuWeJSG--Hp",
        "outputId": "b3965b87-5319-42fc-aa90-37d8e18d105b"
      },
      "execution_count": 2,
      "outputs": [
        {
          "output_type": "stream",
          "name": "stdout",
          "text": [
            "午安,同學好！\n",
            "打起精神來！！！！\n"
          ]
        }
      ]
    },
    {
      "cell_type": "code",
      "source": [
        "test3=int(input('請輸入月份'))\n",
        "test4=int(input('請輸入日期'))"
      ],
      "metadata": {
        "colab": {
          "base_uri": "https://localhost:8080/"
        },
        "id": "A7xAXtUl--KG",
        "outputId": "91f55cf8-764d-40ec-afc2-6abe53705fed"
      },
      "execution_count": 3,
      "outputs": [
        {
          "name": "stdout",
          "output_type": "stream",
          "text": [
            "請輸入月份3\n",
            "請輸入日期21\n"
          ]
        }
      ]
    },
    {
      "cell_type": "code",
      "source": [
        "print('今天是',test3,'月',test4,'號',sep='')"
      ],
      "metadata": {
        "colab": {
          "base_uri": "https://localhost:8080/"
        },
        "id": "xWaT0IOF--Mp",
        "outputId": "c472c7af-6d52-4964-8233-733ebc63737c"
      },
      "execution_count": 4,
      "outputs": [
        {
          "output_type": "stream",
          "name": "stdout",
          "text": [
            "今天是3月21號\n"
          ]
        }
      ]
    },
    {
      "cell_type": "code",
      "source": [
        "test5=int(input('請輸入國文成績'))\n",
        "test6=int(input('請輸入英文成績'))\n",
        "test7=int(input('請輸入數學成績'))\n",
        "print('你的成績總分為:',(test5+test6+test7),sep='\\n')"
      ],
      "metadata": {
        "colab": {
          "base_uri": "https://localhost:8080/"
        },
        "id": "H4tpIng2--O_",
        "outputId": "8578caf0-930c-4c89-cfdc-bea4049cc8ac"
      },
      "execution_count": 5,
      "outputs": [
        {
          "output_type": "stream",
          "name": "stdout",
          "text": [
            "請輸入國文成績50\n",
            "請輸入英文成績60\n",
            "請輸入數學成績70\n",
            "你的成績總分為:\n",
            "180\n"
          ]
        }
      ]
    },
    {
      "cell_type": "code",
      "source": [
        "a1=input(\"吃麵?\")\n",
        "\n",
        "if  a1==\"是\":\n",
        "   a2=input(\"喝湯?\")\n",
        "   if a2==\"是\":\n",
        "     print(\"牛肉麵\")\n",
        "   else:\n",
        "     print(\"麻醬麵\")\n",
        "else:\n",
        "   a3=input(\"重口味?\")\n",
        "   if a3==\"是\":      \n",
        "     print(\"豬腳飯\")\n",
        "   else:\n",
        "     print(\"海鮮粥\")"
      ],
      "metadata": {
        "colab": {
          "base_uri": "https://localhost:8080/"
        },
        "id": "VhXcClRD--RQ",
        "outputId": "864fdac0-c3e2-4592-c24b-fce92759b56b"
      },
      "execution_count": 7,
      "outputs": [
        {
          "output_type": "stream",
          "name": "stdout",
          "text": [
            "吃麵?否\n",
            "重口味?是\n",
            "豬腳飯\n"
          ]
        }
      ]
    },
    {
      "cell_type": "code",
      "source": [
        "hw1=[82,84,68,76,82]\n",
        "hw2=[90,75,88,63,57]\n",
        "hw3=[67,85,90,98,77]\n",
        "\n",
        "\n",
        "hw_all=[[82,84,68,76,82],[90,75,88,63,57],[67,85,90,98,77]]\n",
        "\n",
        "\n",
        "\n",
        "hw_all=[[[90,75,88,63,57],[67,85,90,98,77]],[90,75,88,63,57],[67,85,90,98,77]]\n",
        "print(hw_all[0][0][0])"
      ],
      "metadata": {
        "colab": {
          "base_uri": "https://localhost:8080/"
        },
        "id": "hBnsENbG--Tk",
        "outputId": "507cbb89-49f2-4c91-8813-c24d049fd384"
      },
      "execution_count": 8,
      "outputs": [
        {
          "output_type": "stream",
          "name": "stdout",
          "text": [
            "90\n"
          ]
        }
      ]
    },
    {
      "cell_type": "code",
      "source": [
        "上底 = int(input('請輸入梯形上底長度:'))\n",
        "下底 = int(input('請輸入梯形下底長度:'))\n",
        "高 = int(input('請輸入梯形高的長度:'))\n",
        "面積 = (上底 + 下底) * 高 / 2\n",
        "print(面積)"
      ],
      "metadata": {
        "colab": {
          "base_uri": "https://localhost:8080/"
        },
        "id": "cmc0XEiqAJDJ",
        "outputId": "57e0acc8-8917-4ac8-fe08-eafc0b149d65"
      },
      "execution_count": 9,
      "outputs": [
        {
          "output_type": "stream",
          "name": "stdout",
          "text": [
            "請輸入梯形上底長度:3\n",
            "請輸入梯形下底長度:4\n",
            "請輸入梯形高的長度:3\n",
            "10.5\n"
          ]
        }
      ]
    },
    {
      "cell_type": "code",
      "source": [
        "print('梯形上底長度為: %d, 梯形下底長度為: %d, 梯形高度為: %d, 高梯形面積為: %f' % (上底, 下底, 高, 面積))"
      ],
      "metadata": {
        "colab": {
          "base_uri": "https://localhost:8080/"
        },
        "id": "CHkcaZqnAJPu",
        "outputId": "fd4dbb3f-7b85-498c-8eda-2ea75bb73a1a"
      },
      "execution_count": 10,
      "outputs": [
        {
          "output_type": "stream",
          "name": "stdout",
          "text": [
            "梯形上底長度為: 3, 梯形下底長度為: 4, 梯形高度為: 3, 高梯形面積為: 10.500000\n"
          ]
        }
      ]
    },
    {
      "cell_type": "code",
      "source": [
        "身高=int(input('請輸入您的身高:'))\n",
        "體重=int(input('請輸入您的體重:'))\n",
        "BMI = (體重/(身高/100)**2)\n",
        "print('身高為:%d,體重為%d,BMI為:%0.2f'%(身高,體重,BMI))"
      ],
      "metadata": {
        "colab": {
          "base_uri": "https://localhost:8080/"
        },
        "id": "EWzkFgMqAJS1",
        "outputId": "bfe8a78a-2957-4480-a3ed-226e98f05f97"
      },
      "execution_count": 1,
      "outputs": [
        {
          "output_type": "stream",
          "name": "stdout",
          "text": [
            "請輸入您的身高:200\n",
            "請輸入您的體重:100\n",
            "身高為:200,體重為100,BMI為:25.00\n"
          ]
        }
      ]
    },
    {
      "cell_type": "code",
      "source": [
        "passward=51\n",
        "enter=int(input(\"輸入密碼： \"))\n",
        "\n",
        "while  enter   !=  passward:\n",
        "    print(\"不對\")\n",
        "    if  enter  >  passward:\n",
        "        print(\"太大\")\n",
        "    else:\n",
        "        print(\"太小\")\n",
        "    enter=int(input(\"輸入密碼\"))\n",
        "print(\"成功\")"
      ],
      "metadata": {
        "colab": {
          "base_uri": "https://localhost:8080/"
        },
        "id": "d5eD5qJQAJVu",
        "outputId": "6e8e7b9e-a5ab-499c-934c-dd00a922059f"
      },
      "execution_count": 2,
      "outputs": [
        {
          "output_type": "stream",
          "name": "stdout",
          "text": [
            "輸入密碼： 80\n",
            "不對\n",
            "太大\n",
            "輸入密碼12\n",
            "不對\n",
            "太小\n",
            "輸入密碼51\n",
            "成功\n"
          ]
        }
      ]
    }
  ]
}