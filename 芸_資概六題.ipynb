{
  "nbformat": 4,
  "nbformat_minor": 0,
  "metadata": {
    "colab": {
      "provenance": [],
      "authorship_tag": "ABX9TyM7inYKNOGaRnMe/ziG1kHk",
      "include_colab_link": true
    },
    "kernelspec": {
      "name": "python3",
      "display_name": "Python 3"
    },
    "language_info": {
      "name": "python"
    }
  },
  "cells": [
    {
      "cell_type": "markdown",
      "metadata": {
        "id": "view-in-github",
        "colab_type": "text"
      },
      "source": [
        "<a href=\"https://colab.research.google.com/github/samwang920607/Introduction-to-Computers/blob/main/%E8%8A%B8_%E8%B3%87%E6%A6%82%E5%85%AD%E9%A1%8C.ipynb\" target=\"_parent\"><img src=\"https://colab.research.google.com/assets/colab-badge.svg\" alt=\"Open In Colab\"/></a>"
      ]
    },
    {
      "cell_type": "markdown",
      "source": [
        "基偶數"
      ],
      "metadata": {
        "id": "VtjUYrcBtAAn"
      }
    },
    {
      "cell_type": "code",
      "execution_count": null,
      "metadata": {
        "colab": {
          "base_uri": "https://localhost:8080/"
        },
        "id": "rL1eA4bFrjAy",
        "outputId": "55b0a1a8-e815-47fa-ac5f-70bbec191e65"
      },
      "outputs": [
        {
          "output_type": "stream",
          "name": "stdout",
          "text": [
            "請輸入一個整數：5\n",
            "5 is odd\n"
          ]
        }
      ],
      "source": [
        "number = int(input(\"請輸入一個整數：\"))\n",
        "\n",
        "if number >= 0:\n",
        "    if number % 2 == 0:\n",
        "        print(\"%d is even\" % number)\n",
        "    else:\n",
        "        print(\"%d is odd\" % number)\n",
        "else:\n",
        "    print(\"Input Error\")"
      ]
    },
    {
      "cell_type": "markdown",
      "source": [
        "季節（助教）"
      ],
      "metadata": {
        "id": "SlCGp6letLlU"
      }
    },
    {
      "cell_type": "code",
      "source": [
        "season = int(input(\"請輸入月份\"))\n",
        "\n",
        "if season >= 1 and season <= 3:\n",
        "  print(f\"{season} is spring\")\n",
        "elif season >=4 and season <= 6:\n",
        "  print(f\"{season} is summer\")\n",
        "elif season >=7 and season <= 9:\n",
        "  print(f\"{season} is autumn\")\n",
        "elif season >=10 and season <= 12:\n",
        "  print(f\"{season} is winter\")\n",
        "else:\n",
        "  print(\"Input Error\")"
      ],
      "metadata": {
        "colab": {
          "base_uri": "https://localhost:8080/"
        },
        "id": "JjVoG6zAtI96",
        "outputId": "6ee18a42-c83a-457c-a2f9-e7daf376351a"
      },
      "execution_count": null,
      "outputs": [
        {
          "output_type": "stream",
          "name": "stdout",
          "text": [
            "請輸入月份2\n",
            "2 is spring\n"
          ]
        }
      ]
    },
    {
      "cell_type": "markdown",
      "source": [
        "季節（教授）"
      ],
      "metadata": {
        "id": "k8k1v_yRuJ8C"
      }
    },
    {
      "cell_type": "code",
      "source": [
        "season = int(input(\"請輸入月份\"))\n",
        "if season >= 3 and season <= 5:\n",
        "  print(\"春天！\")\n",
        "elif season >= 6 and season <= 8:\n",
        "  print(\"夏天！\")\n",
        "elif season >= 9 and season <= 11:\n",
        "  print(\"秋天！\")\n",
        "elif season >= 1 or season >= 2 or season <= 12:\n",
        "  print(\"冬天！\")\n",
        "\n",
        "else:\n",
        "  print(\"不在範圍內！\")"
      ],
      "metadata": {
        "colab": {
          "base_uri": "https://localhost:8080/"
        },
        "id": "ieFltwDVs9Ax",
        "outputId": "283fd092-1c90-4f1c-8aa3-499a75b280e8"
      },
      "execution_count": null,
      "outputs": [
        {
          "output_type": "stream",
          "name": "stdout",
          "text": [
            "請輸入月份2\n",
            "冬天！\n"
          ]
        }
      ]
    },
    {
      "cell_type": "markdown",
      "source": [
        "BMI（助教）"
      ],
      "metadata": {
        "id": "S6nJyFBvu5gH"
      }
    },
    {
      "cell_type": "code",
      "source": [
        "height, weight = map(int, input(\"請輸入身高（公分）和體重（公斤），以空格分隔：\").split())\n",
        "bmi = weight / ((height / 100) ** 2)\n",
        "bmi = round(bmi, 2)  \n",
        "print(f\"BMI 值為：{bmi}\")"
      ],
      "metadata": {
        "colab": {
          "base_uri": "https://localhost:8080/"
        },
        "id": "ip1JXV2Ns9DE",
        "outputId": "06a21b93-1421-46c1-9d65-5edd1e5adf33"
      },
      "execution_count": null,
      "outputs": [
        {
          "output_type": "stream",
          "name": "stdout",
          "text": [
            "請輸入身高（公分）和體重（公斤），以空格分隔：176 75\n",
            "BMI 值為：24.21\n"
          ]
        }
      ]
    },
    {
      "cell_type": "markdown",
      "source": [
        "BMI（教授）"
      ],
      "metadata": {
        "id": "7NxD6aQav6ZV"
      }
    },
    {
      "cell_type": "code",
      "source": [
        "身高=int(input('請輸入您的身高:'))\n",
        "體重=int(input('請輸入您的體重:'))\n",
        "BMI = (體重/(身高/100)**2)\n",
        "print('身高為:%d,體重為%d,BMI為:%0.2f'%(身高,體重,BMI))"
      ],
      "metadata": {
        "id": "hn2ehMlPs9Fg",
        "colab": {
          "base_uri": "https://localhost:8080/"
        },
        "outputId": "8f1633b5-3855-46fb-c4c9-b621468112c9"
      },
      "execution_count": null,
      "outputs": [
        {
          "output_type": "stream",
          "name": "stdout",
          "text": [
            "請輸入您的身高:176\n",
            "請輸入您的體重:75\n",
            "身高為:176,體重為75,BMI為:24.21\n"
          ]
        }
      ]
    },
    {
      "cell_type": "markdown",
      "source": [
        "複利"
      ],
      "metadata": {
        "id": "qFcUP8Ffwbhs"
      }
    },
    {
      "cell_type": "code",
      "source": [
        "principal = 100000  \n",
        "interest_rate = 0.03  \n",
        "years = int(input(\"請輸入年數：\"))  \n",
        "\n",
        "if years >=0:\n",
        "  for i in range(years):\n",
        "    principal *= (1 + interest_rate)\n",
        "  print(principal)\n",
        "else:\n",
        "    print(\"Input Error\") "
      ],
      "metadata": {
        "id": "p34Lnjhss9Hs",
        "colab": {
          "base_uri": "https://localhost:8080/"
        },
        "outputId": "77414ae1-7c25-49e5-e330-407111d0fe31"
      },
      "execution_count": null,
      "outputs": [
        {
          "output_type": "stream",
          "name": "stdout",
          "text": [
            "請輸入年數：0\n",
            "100000\n"
          ]
        }
      ]
    },
    {
      "cell_type": "markdown",
      "source": [
        "折扣"
      ],
      "metadata": {
        "id": "TVdSdA5Xwuvm"
      }
    },
    {
      "cell_type": "markdown",
      "source": [
        "總數和"
      ],
      "metadata": {
        "id": "jFJf54oIw0qQ"
      }
    },
    {
      "cell_type": "code",
      "source": [
        "sum = 0\n",
        "test = int(input(\"請輸入一個正整數: \"))\n",
        "for m in range(1, test+1):\n",
        "      sum = sum+m\n",
        "      print(\"1到\",str(m),\"的整數和為:\",sum)\n"
      ],
      "metadata": {
        "colab": {
          "base_uri": "https://localhost:8080/"
        },
        "id": "H1l5YKCTwj-s",
        "outputId": "05b74152-0413-4629-f226-f03f391f320b"
      },
      "execution_count": null,
      "outputs": [
        {
          "output_type": "stream",
          "name": "stdout",
          "text": [
            "請輸入一個正整數: 10\n",
            "1到 1 的整數和為: 1\n",
            "1到 2 的整數和為: 3\n",
            "1到 3 的整數和為: 6\n",
            "1到 4 的整數和為: 10\n",
            "1到 5 的整數和為: 15\n",
            "1到 6 的整數和為: 21\n",
            "1到 7 的整數和為: 28\n",
            "1到 8 的整數和為: 36\n",
            "1到 9 的整數和為: 45\n",
            "1到 10 的整數和為: 55\n"
          ]
        }
      ]
    },
    {
      "cell_type": "code",
      "source": [
        "sum = 0\n",
        "test = int(input(\"請輸入一個正整數：\"))\n",
        "for n in range(1, test+1):\n",
        "    sum = sum+n\n",
        "print(\"1到\",test,\"的整數和為\",sum)"
      ],
      "metadata": {
        "colab": {
          "base_uri": "https://localhost:8080/"
        },
        "id": "bFhpJJ4XwkBF",
        "outputId": "a65d0851-15c9-4ee9-a4ec-71b3ceb74327"
      },
      "execution_count": null,
      "outputs": [
        {
          "output_type": "stream",
          "name": "stdout",
          "text": [
            "請輸入一個正整數：10\n",
            "1到 10 的整數和為 55\n"
          ]
        }
      ]
    },
    {
      "cell_type": "markdown",
      "source": [
        "里程數（停車費）"
      ],
      "metadata": {
        "id": "oT4FRvLv6FPa"
      }
    },
    {
      "cell_type": "code",
      "source": [
        "distance = int(input(\"請輸入公里數\"))\n",
        "if distance >= 1 and distance <= 5:\n",
        "  print(\"240 yuan\")\n",
        "elif distance >=6 :\n",
        "   print((distance - 5) * 40 + 240,end = \" yuan\\n\")\n",
        "elif distance == 0:\n",
        "  print(\"0 yuan\")\n",
        "\n",
        "else:\n",
        "   print(\"Input Error\")"
      ],
      "metadata": {
        "colab": {
          "base_uri": "https://localhost:8080/"
        },
        "id": "UVTCsffU6Fnp",
        "outputId": "9da36dbd-931f-4fd2-e767-4ded296af284"
      },
      "execution_count": 13,
      "outputs": [
        {
          "output_type": "stream",
          "name": "stdout",
          "text": [
            "請輸入公里數240\n",
            "9640 yuan\n"
          ]
        }
      ]
    }
  ]
}