{
  "nbformat": 4,
  "nbformat_minor": 0,
  "metadata": {
    "colab": {
      "provenance": [],
      "authorship_tag": "ABX9TyPZ01q/oVoRL1YmhXgE5aLh",
      "include_colab_link": true
    },
    "kernelspec": {
      "name": "python3",
      "display_name": "Python 3"
    },
    "language_info": {
      "name": "python"
    }
  },
  "cells": [
    {
      "cell_type": "markdown",
      "metadata": {
        "id": "view-in-github",
        "colab_type": "text"
      },
      "source": [
        "<a href=\"https://colab.research.google.com/github/samwang920607/Introduction-to-Computers/blob/main/%E8%8A%B8_%EF%BC%BF%E8%B3%87%E6%A6%82.ipynb\" target=\"_parent\"><img src=\"https://colab.research.google.com/assets/colab-badge.svg\" alt=\"Open In Colab\"/></a>"
      ]
    },
    {
      "cell_type": "code",
      "source": [
        "season = int(input(\"請輸入月份\"))\n",
        "#檢查輸入是否為整數\n",
        "if season >= 1 and season <= 3:\n",
        "  print(f\"{season} is spring\")\n",
        "elif season >=4 and season <= 6:\n",
        "  print(f\"{season} is summer\")\n",
        "elif season >=7 and season <= 9:\n",
        "  print(f\"{season} is autumn\")\n",
        "elif season >=10 and season <= 12:\n",
        "  print(f\"{season} is winter\")\n",
        "else:\n",
        "  print(\"Input Error\")"
      ],
      "metadata": {
        "id": "SXqDjOp8zmOU",
        "colab": {
          "base_uri": "https://localhost:8080/"
        },
        "outputId": "2692de92-7559-49b1-bcda-84acfc1585e8"
      },
      "execution_count": 24,
      "outputs": [
        {
          "output_type": "stream",
          "name": "stdout",
          "text": [
            "請輸入月份-2\n",
            "Input Error\n"
          ]
        }
      ]
    },
    {
      "cell_type": "code",
      "source": [
        "distance = int(input(\"請輸入公里數\"))\n",
        "if distance >= 1 and distance <= 5:\n",
        "  print(\"240 yuan\")\n",
        "elif distance >=6 :\n",
        "   print((distance - 5) * 40 + 240,end = \" yuan\\n\")\n",
        "elif distance == 0:\n",
        "  print(\"0 yuan\")\n",
        "\n",
        "else:\n",
        "   print(\"Input Error\")"
      ],
      "metadata": {
        "id": "p5fX9jexzmQ5",
        "colab": {
          "base_uri": "https://localhost:8080/"
        },
        "outputId": "864aa2ed-a8ef-481c-b66b-adb54eba63d4"
      },
      "execution_count": 79,
      "outputs": [
        {
          "output_type": "stream",
          "name": "stdout",
          "text": [
            "請輸入公里數0\n",
            "0 yuan\n"
          ]
        }
      ]
    },
    {
      "cell_type": "code",
      "source": [
        "principal = 100000  \n",
        "interest_rate = 0.03  \n",
        "years = int(input(\"請輸入年數：\"))  \n",
        "\n",
        "if years >=0:\n",
        "  for i in range(years):\n",
        "    principal *= (1 + interest_rate)\n",
        "  print(principal)\n",
        "else:\n",
        "    print(\"Input Error\") "
      ],
      "metadata": {
        "colab": {
          "base_uri": "https://localhost:8080/"
        },
        "id": "GkJkcf-54PFn",
        "outputId": "dbb5cd76-9a08-4147-cf09-4e23040cc002"
      },
      "execution_count": 112,
      "outputs": [
        {
          "output_type": "stream",
          "name": "stdout",
          "text": [
            "請輸入年數：2\n",
            "106090.0\n"
          ]
        }
      ]
    },
    {
      "cell_type": "code",
      "source": [
        "height, weight = map(int, input(\"請輸入身高（公分）和體重（公斤），以空格分隔：\").split())\n",
        "bmi = weight / ((height / 100) ** 2)\n",
        "bmi = round(bmi, 2)  \n",
        "print(f\"BMI 值為：{bmi}\")"
      ],
      "metadata": {
        "colab": {
          "base_uri": "https://localhost:8080/"
        },
        "id": "ziUic4ZR4PH4",
        "outputId": "3a2c4eeb-7ec7-4457-a027-dea84962b6da"
      },
      "execution_count": 8,
      "outputs": [
        {
          "output_type": "stream",
          "name": "stdout",
          "text": [
            "請輸入身高（公分）和體重（公斤），以空格分隔：176 75\n",
            "BMI 值為：24.21\n"
          ]
        }
      ]
    },
    {
      "cell_type": "code",
      "source": [
        "numbers = input(\"請輸入三個整數（用空格隔開）：\")\n",
        "numbers_list = numbers.split()  \n",
        "numbers_int = [int(num) for num in numbers_list]  \n",
        "\n",
        "min_number = numbers_int[0] \n",
        "\n",
        "for num in numbers_int[1:]:\n",
        "    if num < min_number:\n",
        "        min_number = num\n",
        "\n",
        "print(f\"{min_number}\")"
      ],
      "metadata": {
        "colab": {
          "base_uri": "https://localhost:8080/"
        },
        "id": "xh3kgf8RHzLT",
        "outputId": "bc0a988a-a899-4dec-af13-9c56c277d418"
      },
      "execution_count": 135,
      "outputs": [
        {
          "output_type": "stream",
          "name": "stdout",
          "text": [
            "請輸入三個整數（用空格隔開）：0 8 7\n",
            "0\n"
          ]
        }
      ]
    },
    {
      "cell_type": "code",
      "source": [
        "numbers = input(\"請輸入三個整數（用空格隔開）：\")\n",
        "numbers_list = numbers.split()  \n",
        "numbers_int = [float(num) for num in numbers_list]  \n",
        "\n",
        "max_number = numbers_int[0] \n",
        "\n",
        "for num in numbers_int[1:]:\n",
        "    if num > max_number:\n",
        "        max_number = num\n",
        "\n",
        "print(f\"{max_number}\")"
      ],
      "metadata": {
        "colab": {
          "base_uri": "https://localhost:8080/"
        },
        "id": "YwGDE5K3Ly2Z",
        "outputId": "19d69281-7d34-44ce-e9d1-5ffb8676ee81"
      },
      "execution_count": 145,
      "outputs": [
        {
          "output_type": "stream",
          "name": "stdout",
          "text": [
            "請輸入三個整數（用空格隔開）：10.3 30.9 20.8\n",
            "30.9\n"
          ]
        }
      ]
    },
    {
      "cell_type": "code",
      "source": [
        "n = int(input('請輸入正整數:'))\n",
        "if n > 1:\n",
        "  print(end=' ')\n",
        "  for i in range(1,n+1):\n",
        "    if n % i == 0:\n",
        "      print(f' {i}',end= ' ')"
      ],
      "metadata": {
        "colab": {
          "base_uri": "https://localhost:8080/"
        },
        "id": "2z9u3DCyHzRL",
        "outputId": "cbe672f0-20a9-486b-ada3-73af6a6ec78f"
      },
      "execution_count": 151,
      "outputs": [
        {
          "output_type": "stream",
          "name": "stdout",
          "text": [
            "請輸入正整數:520\n",
            "  1  2  4  5  8  10  13  20  26  40  52  65  104  130  260  520 "
          ]
        }
      ]
    },
    {
      "cell_type": "code",
      "source": [
        "total=0\n",
        "n = int(input(\"請輸入正整數\"))\n",
        "for i in range(1,n+1):\n",
        "    if i %3==0 or i%7==0:\n",
        "        total+=i\n",
        "print(total)"
      ],
      "metadata": {
        "colab": {
          "base_uri": "https://localhost:8080/"
        },
        "id": "fEFQGxJRHzOV",
        "outputId": "743b2894-b26e-4c33-9c89-6f5a3e9176b0"
      },
      "execution_count": 143,
      "outputs": [
        {
          "output_type": "stream",
          "name": "stdout",
          "text": [
            "請輸入正整數9999\n",
            "21426429\n"
          ]
        }
      ]
    },
    {
      "cell_type": "code",
      "source": [
        "n = int(input(\"請輸入一個整數\"))\n",
        "for i in range(1, n+1):\n",
        "    print(\"*\" * i)"
      ],
      "metadata": {
        "colab": {
          "base_uri": "https://localhost:8080/"
        },
        "id": "D1mTfROZPIu3",
        "outputId": "8d68d1c1-c6ca-4b83-a374-d620227a4574"
      },
      "execution_count": 173,
      "outputs": [
        {
          "output_type": "stream",
          "name": "stdout",
          "text": [
            "請輸入一個整數5\n",
            "*\n",
            "**\n",
            "***\n",
            "****\n",
            "*****\n"
          ]
        }
      ]
    },
    {
      "cell_type": "code",
      "source": [
        "n = int(input(\"請輸入一個整數\"))\n",
        "for i in range(1, n+1):\n",
        "    for j in range(1, i+1):\n",
        "        print(j, end=\"\")\n",
        "    print()"
      ],
      "metadata": {
        "colab": {
          "base_uri": "https://localhost:8080/"
        },
        "id": "iLsARdF_VBRv",
        "outputId": "3466c986-1ae6-4c17-ecc8-61c460ed91eb"
      },
      "execution_count": 192,
      "outputs": [
        {
          "output_type": "stream",
          "name": "stdout",
          "text": [
            "請輸入一個整數13\n",
            "1\n",
            "12\n",
            "123\n",
            "1234\n",
            "12345\n",
            "123456\n",
            "1234567\n",
            "12345678\n",
            "123456789\n",
            "12345678910\n",
            "1234567891011\n",
            "123456789101112\n",
            "12345678910111213\n"
          ]
        }
      ]
    },
    {
      "cell_type": "code",
      "source": [
        "a = int(input(\"請輸入 a 的值：\"))\n",
        "b = int(input(\"請輸入 b 的值：\"))\n",
        "minor = min(a, b)\n",
        "for i in range(minor, 0, -1):\n",
        "    if a % i == 0 and b % i == 0:\n",
        "        break\n",
        "print(i)"
      ],
      "metadata": {
        "colab": {
          "base_uri": "https://localhost:8080/"
        },
        "id": "gveoh-wYVdhF",
        "outputId": "4e036b24-ac7c-41db-b8d6-d7c0f12cc6eb"
      },
      "execution_count": 202,
      "outputs": [
        {
          "output_type": "stream",
          "name": "stdout",
          "text": [
            "請輸入 a 的值：120\n",
            "請輸入 b 的值：150\n",
            "30\n"
          ]
        }
      ]
    },
    {
      "cell_type": "code",
      "source": [
        "a=int(input(\"請輸入a的值\"))\n",
        "b=int(input(\"請輸入b的值\"))\n",
        "\n",
        "maxno =a*b\n",
        "for i in range(1,maxno+1):\n",
        "  if(i%a==0 and i%b==0):\n",
        "    break\n",
        "print(i)"
      ],
      "metadata": {
        "colab": {
          "base_uri": "https://localhost:8080/"
        },
        "id": "B8dyl-YaRuzM",
        "outputId": "55d7a3fb-6a44-43c2-f2ef-4457b9567e88"
      },
      "execution_count": 189,
      "outputs": [
        {
          "output_type": "stream",
          "name": "stdout",
          "text": [
            "請輸入a的值113\n",
            "請輸入b的值200\n",
            "22600\n"
          ]
        }
      ]
    },
    {
      "cell_type": "code",
      "source": [
        "text = input(\"請輸入一個字串：\")\n",
        "result = \"\"\n",
        "\n",
        "for i in range(len(text)):\n",
        "    if i % 2 == 0:\n",
        "        result += text[i].upper()\n",
        "    else:\n",
        "        result += text[i].lower()\n",
        "print(result)"
      ],
      "metadata": {
        "colab": {
          "base_uri": "https://localhost:8080/"
        },
        "id": "s6-UOIUFRu1U",
        "outputId": "a052954a-3884-420a-e9e8-461f4ea567fd"
      },
      "execution_count": 203,
      "outputs": [
        {
          "output_type": "stream",
          "name": "stdout",
          "text": [
            "請輸入一個字串：python\n",
            "PyThOn\n"
          ]
        }
      ]
    },
    {
      "cell_type": "code",
      "source": [
        "a, b, c = map(int, input(\"請輸入三個整數（用空格隔開）：\").split())\n",
        "\n",
        "if a + b > c and a + c > b and b + c > a:\n",
        "    print(\"Valid\")\n",
        "else:\n",
        "    print(\"InValid\")"
      ],
      "metadata": {
        "colab": {
          "base_uri": "https://localhost:8080/"
        },
        "id": "giDOQS8DRu3k",
        "outputId": "84e6ff4f-fb06-4a2f-d5cd-bda46682d0a3"
      },
      "execution_count": 205,
      "outputs": [
        {
          "output_type": "stream",
          "name": "stdout",
          "text": [
            "請輸入三個整數（用空格隔開）：2 4 7\n",
            "InValid\n"
          ]
        }
      ]
    },
    {
      "cell_type": "code",
      "source": [
        "data = input(\"請輸入資料（用空格隔開）：\")\n",
        "list_data = data.split()\n",
        "reversed_data = []\n",
        "\n",
        "for i in range(len(list_data) - 1, -1, -1):\n",
        "    reversed_data.append(list_data[i])\n",
        "\n",
        "print(\" \".join(reversed_data))"
      ],
      "metadata": {
        "colab": {
          "base_uri": "https://localhost:8080/"
        },
        "id": "FahvnJbqRu5w",
        "outputId": "a6c021ae-4e5f-4b25-834f-893ccc8f048b"
      },
      "execution_count": 206,
      "outputs": [
        {
          "output_type": "stream",
          "name": "stdout",
          "text": [
            "請輸入資料（用空格隔開）：apple banana cake\n",
            "cake banana apple\n"
          ]
        }
      ]
    },
    {
      "cell_type": "code",
      "source": [
        "password = input(\"請輸入密碼：\")\n",
        "masked_password = '*' * len(password)\n",
        "print(masked_password)\n",
        "print(len(password))"
      ],
      "metadata": {
        "colab": {
          "base_uri": "https://localhost:8080/"
        },
        "id": "lYyocZO3Ru73",
        "outputId": "3aa33080-b63f-4ec6-9207-b9c4c87c87d7"
      },
      "execution_count": 207,
      "outputs": [
        {
          "output_type": "stream",
          "name": "stdout",
          "text": [
            "請輸入密碼：1234123123\n",
            "**********\n",
            "10\n"
          ]
        }
      ]
    },
    {
      "cell_type": "code",
      "source": [
        "total_seconds = int(input(\"請輸入時間的秒數：\"))\n",
        "\n",
        "hours = total_seconds // 3600\n",
        "minutes = (total_seconds % 3600) // 60\n",
        "seconds = (total_seconds % 3600) % 60\n",
        "\n",
        "formatted_time = f\"{hours:02d}:{minutes:02d}:{seconds:02d}\"\n",
        "\n",
        "print(formatted_time)"
      ],
      "metadata": {
        "colab": {
          "base_uri": "https://localhost:8080/"
        },
        "id": "zICt9-maY2Ns",
        "outputId": "6897747a-5b27-468f-c5b8-ab7a011f99b9"
      },
      "execution_count": 209,
      "outputs": [
        {
          "output_type": "stream",
          "name": "stdout",
          "text": [
            "請輸入時間的秒數：86399\n",
            "23:59:59\n"
          ]
        }
      ]
    },
    {
      "cell_type": "code",
      "source": [
        "year = int(input(\"請輸入西元年份：\"))\n",
        "\n",
        "if (year % 4 == 0 and year % 100 != 0) or (year % 400 == 0):\n",
        "    print(f\"{year} is leap year\")\n",
        "else:\n",
        "    print(f\"{year} is common year\")"
      ],
      "metadata": {
        "colab": {
          "base_uri": "https://localhost:8080/"
        },
        "id": "rKbeqhEsY2AY",
        "outputId": "4621169b-bb53-4512-ecc9-d8a61c188085"
      },
      "execution_count": 212,
      "outputs": [
        {
          "output_type": "stream",
          "name": "stdout",
          "text": [
            "請輸入西元年份：2100\n",
            "2100 is common year\n"
          ]
        }
      ]
    },
    {
      "cell_type": "code",
      "source": [
        "num = int(input(\"請輸入一個數字：\"))\n",
        "\n",
        "for i in range(num, 10):\n",
        "    for j in range(1, 10):\n",
        "        print(f\"{i}*{j}={j*i}\", end =\"\\t\")\n",
        "    print()"
      ],
      "metadata": {
        "colab": {
          "base_uri": "https://localhost:8080/"
        },
        "id": "_UI_fjslp_WX",
        "outputId": "4e8f4dc5-b4cc-4af3-81a6-36770a15d01f"
      },
      "execution_count": 28,
      "outputs": [
        {
          "output_type": "stream",
          "name": "stdout",
          "text": [
            "請輸入一個數字：5\n",
            "5*1=5\t5*2=10\t5*3=15\t5*4=20\t5*5=25\t5*6=30\t5*7=35\t5*8=40\t5*9=45\t\n",
            "6*1=6\t6*2=12\t6*3=18\t6*4=24\t6*5=30\t6*6=36\t6*7=42\t6*8=48\t6*9=54\t\n",
            "7*1=7\t7*2=14\t7*3=21\t7*4=28\t7*5=35\t7*6=42\t7*7=49\t7*8=56\t7*9=63\t\n",
            "8*1=8\t8*2=16\t8*3=24\t8*4=32\t8*5=40\t8*6=48\t8*7=56\t8*8=64\t8*9=72\t\n",
            "9*1=9\t9*2=18\t9*3=27\t9*4=36\t9*5=45\t9*6=54\t9*7=63\t9*8=72\t9*9=81\t\n"
          ]
        }
      ]
    },
    {
      "cell_type": "code",
      "source": [
        "num = int(input(\"請輸入一個數字：\"))\n",
        "total = 0\n",
        "\n",
        "for i in range(15, num+1):\n",
        "    if i % 2 == 0:\n",
        "        total += i\n",
        "\n",
        "print(total)"
      ],
      "metadata": {
        "colab": {
          "base_uri": "https://localhost:8080/"
        },
        "id": "H81L7eahv0sA",
        "outputId": "bff39606-4e8f-4f78-e8f1-5637e0983b4a"
      },
      "execution_count": 34,
      "outputs": [
        {
          "output_type": "stream",
          "name": "stdout",
          "text": [
            "請輸入一個數字：99\n",
            "2394\n"
          ]
        }
      ]
    },
    {
      "cell_type": "code",
      "source": [
        "number = int(input(\"請輸入一個整數：\"))\n",
        "\n",
        "if number >= 0:\n",
        "    if number % 2 == 0:\n",
        "        print(\"%d is even\" % number)\n",
        "    else:\n",
        "        print(\"%d is odd\" % number)\n",
        "else:\n",
        "    print(\"Input Error\")"
      ],
      "metadata": {
        "colab": {
          "base_uri": "https://localhost:8080/"
        },
        "id": "FAD8f9BNwVQH",
        "outputId": "31ce209b-cc26-411a-b3c8-219eb120de79"
      },
      "execution_count": 38,
      "outputs": [
        {
          "output_type": "stream",
          "name": "stdout",
          "text": [
            "請輸入一個整數：-10\n",
            "Input Error\n"
          ]
        }
      ]
    },
    {
      "cell_type": "code",
      "source": [
        "sum = 0\n",
        "test = int(input(\"請輸入一個正整數：\"))\n",
        "for n in range(1, test+1):\n",
        "    sum = sum+n\n",
        "print(\"1到\",test,\"的整數和為\",sum)"
      ],
      "metadata": {
        "colab": {
          "base_uri": "https://localhost:8080/"
        },
        "id": "1gvfjogzbXoe",
        "outputId": "0b9cf9eb-2b93-41c6-e408-28e6ef035026"
      },
      "execution_count": 213,
      "outputs": [
        {
          "output_type": "stream",
          "name": "stdout",
          "text": [
            "請輸入一個正整數：100\n",
            "1到 100 的整數和為 5050\n"
          ]
        }
      ]
    }
  ]
}