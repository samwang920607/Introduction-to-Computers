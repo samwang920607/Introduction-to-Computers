{
  "nbformat": 4,
  "nbformat_minor": 0,
  "metadata": {
    "colab": {
      "name": "0530.ipynb",
      "provenance": [],
      "collapsed_sections": [],
      "authorship_tag": "ABX9TyPqOMHua8twdn9yB53p2OTk",
      "include_colab_link": true
    },
    "kernelspec": {
      "name": "python3",
      "display_name": "Python 3"
    },
    "language_info": {
      "name": "python"
    }
  },
  "cells": [
    {
      "cell_type": "markdown",
      "metadata": {
        "id": "view-in-github",
        "colab_type": "text"
      },
      "source": [
        "<a href=\"https://colab.research.google.com/github/samwang920607/Introduction-to-Computers/blob/main/0530.ipynb\" target=\"_parent\"><img src=\"https://colab.research.google.com/assets/colab-badge.svg\" alt=\"Open In Colab\"/></a>"
      ]
    },
    {
      "cell_type": "code",
      "execution_count": 3,
      "metadata": {
        "colab": {
          "base_uri": "https://localhost:8080/"
        },
        "id": "JrlVpgycBRAF",
        "outputId": "2b8d95f8-7d37-4d15-f0e9-52435cea2807"
      },
      "outputs": [
        {
          "output_type": "stream",
          "name": "stdout",
          "text": [
            "2*1= 2     2*2= 4     2*3= 6     2*4= 8     2*5=10     2*6=12     2*7=14     2*8=16     2*9=18     \n",
            "3*1= 3     3*2= 6     3*3= 9     3*4=12     3*5=15     3*6=18     3*7=21     3*8=24     3*9=27     \n",
            "4*1= 4     4*2= 8     4*3=12     4*4=16     4*5=20     4*6=24     4*7=28     4*8=32     4*9=36     \n",
            "5*1= 5     5*2=10     5*3=15     5*4=20     5*5=25     5*6=30     5*7=35     5*8=40     5*9=45     \n",
            "6*1= 6     6*2=12     6*3=18     6*4=24     6*5=30     6*6=36     6*7=42     6*8=48     6*9=54     \n",
            "7*1= 7     7*2=14     7*3=21     7*4=28     7*5=35     7*6=42     7*7=49     7*8=56     7*9=63     \n",
            "8*1= 8     8*2=16     8*3=24     8*4=32     8*5=40     8*6=48     8*7=56     8*8=64     8*9=72     \n",
            "9*1= 9     9*2=18     9*3=27     9*4=36     9*5=45     9*6=54     9*7=63     9*8=72     9*9=81     \n"
          ]
        }
      ],
      "source": [
        "for i in range(2,10):\n",
        "    for j in range(1,10):\n",
        "        product = i*j\n",
        "        print(\"%d*%d=%2d    \" % (i, j, product), end=\" \")\n",
        "    print()"
      ]
    },
    {
      "cell_type": "code",
      "source": [
        "a = int(input(\"請輸入a的值\"))\n",
        "b = int(input(\"請輸入b的值\"))\n",
        "\n",
        "maxno = a * b\n",
        "for i in range(1, maxno+1):\n",
        "    if(i % a == 0 and i % b == 0):\n",
        "         break\n",
        "print(\"%d和%d的最小公倍數 = %d\" %(a,b,i))"
      ],
      "metadata": {
        "colab": {
          "base_uri": "https://localhost:8080/"
        },
        "id": "7pboJ7FiBRip",
        "outputId": "ffd38ba2-ab95-4a58-c489-709e159a4e2d"
      },
      "execution_count": 4,
      "outputs": [
        {
          "output_type": "stream",
          "name": "stdout",
          "text": [
            "請輸入a的值4\n",
            "請輸入b的值5\n",
            "4和5的最小公倍數 = 20\n"
          ]
        }
      ]
    },
    {
      "cell_type": "code",
      "source": [
        "n = int(input(\"請輸入正整數：\"))\n",
        "for i in range(1,n+1):\n",
        "    if i % 5 == 0:\n",
        "        continue\n",
        "    print(i, end=\" \")"
      ],
      "metadata": {
        "colab": {
          "base_uri": "https://localhost:8080/"
        },
        "id": "7KvP-5OqBRld",
        "outputId": "077b7e94-fc34-4492-8b2e-e450f8332bf7"
      },
      "execution_count": 5,
      "outputs": [
        {
          "output_type": "stream",
          "name": "stdout",
          "text": [
            "請輸入正整數：21\n",
            "1 2 3 4 6 7 8 9 11 12 13 14 16 17 18 19 21 "
          ]
        }
      ]
    },
    {
      "cell_type": "code",
      "source": [
        "total = n = 0\n",
        "while(n<= 10):\n",
        "    total += n\n",
        "    n += 1\n",
        "print(total)"
      ],
      "metadata": {
        "colab": {
          "base_uri": "https://localhost:8080/"
        },
        "id": "7bkq9Df5BRoF",
        "outputId": "e5796a77-1c60-4cb4-b600-75c97af654bf"
      },
      "execution_count": 6,
      "outputs": [
        {
          "output_type": "stream",
          "name": "stdout",
          "text": [
            "55\n"
          ]
        }
      ]
    },
    {
      "cell_type": "code",
      "source": [
        "total = n = 0\n",
        "while n<= 10:\n",
        "    total += n\n",
        "    n += 1\n",
        "print(total)"
      ],
      "metadata": {
        "colab": {
          "base_uri": "https://localhost:8080/"
        },
        "id": "EIwlPPO5JCnO",
        "outputId": "9ce12435-943e-49ad-a3bb-aff0b1f000fa"
      },
      "execution_count": 7,
      "outputs": [
        {
          "output_type": "stream",
          "name": "stdout",
          "text": [
            "55\n"
          ]
        }
      ]
    },
    {
      "cell_type": "code",
      "source": [
        "total = i = 1\n",
        "n = int(input(\"請輸入正整數n的值:\"))\n",
        "while i<=n:\n",
        "   total *= i\n",
        "   i+=1\n",
        "print(\"%d!=%d\" % (n, total))"
      ],
      "metadata": {
        "colab": {
          "base_uri": "https://localhost:8080/"
        },
        "id": "7To8NYc-JCpw",
        "outputId": "7d6aeb0d-3367-4bb5-abfa-589471092773"
      },
      "execution_count": 8,
      "outputs": [
        {
          "output_type": "stream",
          "name": "stdout",
          "text": [
            "請輸入正整數n的值:5\n",
            "5!=120\n"
          ]
        }
      ]
    },
    {
      "cell_type": "code",
      "source": [
        "total = i = 1\n",
        "n = int(input(\"請輸入正整數n的值:\"))\n",
        "while i<=n:\n",
        "   total *= i\n",
        "   i+=1\n",
        "print(\"%d!=%d\" % (n, total))"
      ],
      "metadata": {
        "colab": {
          "base_uri": "https://localhost:8080/"
        },
        "id": "xZ01J44nJCuy",
        "outputId": "97ee4a39-bda6-4541-8c81-88d3c51e9db8"
      },
      "execution_count": 9,
      "outputs": [
        {
          "output_type": "stream",
          "name": "stdout",
          "text": [
            "請輸入正整數n的值:100\n",
            "100!=93326215443944152681699238856266700490715968264381621468592963895217599993229915608941463976156518286253697920827223758251185210916864000000000000000000000000\n"
          ]
        }
      ]
    },
    {
      "cell_type": "code",
      "source": [
        "a = i = 0\n",
        "b = k = 0\n",
        "while i <=50:\n",
        "    if i % 2 == 0:\n",
        "        a += i \n",
        "    i += 1\n",
        "print(f\"0到50的偶數和結果是{a}\")\n",
        "while k <=50:\n",
        "    if k % 2 != 0:\n",
        "        b += k\n",
        "    k += 1\n",
        "print(f\"0到50的奇數和結果是{b}\")"
      ],
      "metadata": {
        "colab": {
          "base_uri": "https://localhost:8080/"
        },
        "id": "2WWqejElL9zQ",
        "outputId": "8bd19e2c-4a0c-4f2a-a893-e49b6f4fe31a"
      },
      "execution_count": 48,
      "outputs": [
        {
          "output_type": "stream",
          "name": "stdout",
          "text": [
            "0到50的偶數和結果是650\n",
            "0到50的奇數和結果是625\n"
          ]
        }
      ]
    },
    {
      "cell_type": "code",
      "source": [
        "k=int(input('請輸入一整數:'))\n",
        "for i in range(1,k+1):\n",
        "    for j in range(i,k+1):\n",
        "        print('*',end='')\n",
        "    print()"
      ],
      "metadata": {
        "colab": {
          "base_uri": "https://localhost:8080/"
        },
        "id": "w4JtHI7GL91K",
        "outputId": "dd78993e-cdc1-4ba1-e65a-ba2528aa90c0"
      },
      "execution_count": 49,
      "outputs": [
        {
          "output_type": "stream",
          "name": "stdout",
          "text": [
            "請輸入一整數:7\n",
            "*******\n",
            "******\n",
            "*****\n",
            "****\n",
            "***\n",
            "**\n",
            "*\n"
          ]
        }
      ]
    },
    {
      "cell_type": "code",
      "source": [
        "total=0\n",
        "for i in range(1,101):\n",
        "    if i %3==0 or i%7==0:\n",
        "        total+=i\n",
        "print('數值1~100中,所有是3或7倍數的總和=',total)"
      ],
      "metadata": {
        "colab": {
          "base_uri": "https://localhost:8080/"
        },
        "id": "XsbhRHKXY-CG",
        "outputId": "34e5b3d9-f500-419d-96b4-755dfbbb96dc"
      },
      "execution_count": 50,
      "outputs": [
        {
          "output_type": "stream",
          "name": "stdout",
          "text": [
            "數值1~100中,所有是3或7倍數的總和= 2208\n"
          ]
        }
      ]
    },
    {
      "cell_type": "code",
      "source": [
        "n = int(input('請輸入正整數:'))\n",
        "if n > 1:\n",
        "  print(f'{n}的因數有:',end=' ')\n",
        "  for i in range(1,n+1):\n",
        "    if n % i == 0:\n",
        "      print(f' {i}',end= ' ')\n",
        "  for i in range(2,n):\n",
        "    if n % i == 0:\n",
        "     print(f'\\n{n}不是質數')\n",
        "    else:\n",
        "     print(f'\\n{n}是質數')\n",
        "    break\n",
        "else:\n",
        "  print(f'\\n{n}不是質數')"
      ],
      "metadata": {
        "colab": {
          "base_uri": "https://localhost:8080/"
        },
        "id": "nwzcLy4uY-NR",
        "outputId": "cc8214f6-ac1f-48fe-a175-b6e5c27ecae3"
      },
      "execution_count": 51,
      "outputs": [
        {
          "output_type": "stream",
          "name": "stdout",
          "text": [
            "請輸入正整數:17\n",
            "17的因數有:  1  17 \n",
            "17是質數\n"
          ]
        }
      ]
    },
    {
      "cell_type": "code",
      "source": [
        ""
      ],
      "metadata": {
        "id": "Qr9hW2wPY-bU"
      },
      "execution_count": null,
      "outputs": []
    }
  ]
}